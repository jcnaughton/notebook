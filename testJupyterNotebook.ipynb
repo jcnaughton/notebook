{
 "cells": [
  {
   "cell_type": "markdown",
   "metadata": {
    "id": "CZLHxsP0PDL8"
   },
   "source": [
    "# This is a test \n",
    "## First code snippet\n",
    "- It's a demonstration of a list\n",
    "- it's also a loop \n"
   ]
  },
  {
   "cell_type": "code",
   "execution_count": null,
   "metadata": {
    "colab": {
     "base_uri": "https://localhost:8080/"
    },
    "id": "sdBCmi2SPZGM",
    "outputId": "64f06a91-967f-45bf-eba9-0d60ba848463"
   },
   "outputs": [],
   "source": [
    "colorList = ['red','white','blue']\n",
    "for color in colorList:\n",
    "  print(color)\n"
   ]
  },
  {
   "cell_type": "markdown",
   "metadata": {
    "id": "hNytMaMWP50k"
   },
   "source": [
    "## Second code snippet\n",
    "- something a little more fun\n",
    "- using requests\n"
   ]
  },
  {
   "cell_type": "code",
   "execution_count": null,
   "metadata": {
    "colab": {
     "base_uri": "https://localhost:8080/"
    },
    "id": "Kp2hGtnKQG7j",
    "outputId": "51246d4f-3ce0-4e1d-b983-812c02c04793"
   },
   "outputs": [],
   "source": [
    "import requests\n",
    "import json\n",
    "\n",
    "def getForecast(lat,long):\n",
    "  headers = {\n",
    "    'Accept': 'application/json'\n",
    "  }\n",
    "  # ============================================================\n",
    "  #  url = 'https://api.weather.gov/points/lat,long'\n",
    "  # ============================================================\n",
    "  url = \"https://api.weather.gov/points/\" + lat + \",\" + long\n",
    "  r = requests.get(url, headers=headers)\n",
    "\n",
    "  if r.status_code == 200:\n",
    "    locationDict = {}\n",
    "    locationDict['city'] = r.json()['properties']['relativeLocation']['properties']['city']\n",
    "    locationDict['state'] = r.json()['properties']['relativeLocation']['properties']['state']\n",
    "\n",
    "    url = r.json()['properties']['forecast']\n",
    "    r = requests.get(url, headers=headers)\n",
    "    message = \"The weather \" + r.json()['properties']['periods'][0]['name'] + \" in \" + locationDict['city'] + \", \" + locationDict['state'] + \" is \" + str(r.json()['properties']['periods'][0]['temperature'])\n",
    "    message += \" \" + r.json()['properties']['periods'][0]['temperatureUnit'] + \" and \" + r.json()['properties']['periods'][0]['detailedForecast']\n",
    "    print(message)\n",
    "  else:\n",
    "    print(str(r.status_code) + \" \" + url)\n",
    "\n",
    "siteList = [ {'lat': '40.9036896','long':'-74.2403186'},{'lat': '41.053069','long':'-73.9746262'} ]\n",
    "for site in siteList:\n",
    "  getForecast(site['lat'],site['long'])\n",
    "\n"
   ]
  },
  {
   "cell_type": "markdown",
   "metadata": {
    "id": "jczMEstmgTfb"
   },
   "source": [
    "## Graph it\n",
    "- How do I add the times?"
   ]
  },
  {
   "cell_type": "code",
   "execution_count": null,
   "metadata": {
    "colab": {
     "base_uri": "https://localhost:8080/",
     "height": 582
    },
    "id": "yrqWplPIgZT6",
    "outputId": "ccf531e5-0946-4aa1-ea54-8fe16122472d"
   },
   "outputs": [],
   "source": [
    "import requests\n",
    "import json\n",
    "import numpy as np\n",
    "from matplotlib import pyplot as plt\n",
    "\n",
    "def getForecast(lat,long):\n",
    "  headers = {\n",
    "    'Accept': 'application/json'\n",
    "  }\n",
    "  # ============================================================\n",
    "  #  url = 'https://api.weather.gov/points/lat,long'\n",
    "  # ============================================================\n",
    "  url = \"https://api.weather.gov/points/\" + lat + \",\" + long\n",
    "  r = requests.get(url, headers=headers)\n",
    "  # get the forecast link\n",
    "  \n",
    "  if r.status_code == 200:\n",
    "    locationDict = {}\n",
    "    locationDict['city'] = r.json()['properties']['relativeLocation']['properties']['city']\n",
    "    locationDict['state'] = r.json()['properties']['relativeLocation']['properties']['state']\n",
    "\n",
    "    # go to the forecast link\n",
    "    url = r.json()['properties']['forecast']\n",
    "    r = requests.get(url, headers=headers)\n",
    "    # print(r.text)\n",
    "\n",
    "    # Add all of the temperatures to the list\n",
    "    tempList = []\n",
    "    dateList = []\n",
    "    for period in r.json()['properties']['periods']:\n",
    "      tempList.append(period['temperature'])\n",
    "      dateList.append(period['startTime'])\n",
    "    locationDict['tempList'] = tempList\n",
    "    locationDict['dateList'] = dateList\n",
    "    return locationDict\n",
    "  else:\n",
    "    print(str(r.status_code) + \" \" + url)\n",
    "\n",
    "siteList = [ {'lat': '40.9036896','long':'-74.2403186'},{'lat': '41.053069','long':'-73.9746262'} ]\n",
    "for site in siteList:\n",
    "  locationDict = getForecast(site['lat'],site['long'])\n",
    "  tempList=locationDict['tempList']\n",
    "  dateList=locationDict['dateList']\n",
    "  plt.plot(dateList, tempList, '-')\n",
    "  plt.title(\"Temperature Forecast \" + locationDict['city'] + \", \" + locationDict['state'])\n",
    "  plt.xticks(rotation=90)\n",
    "  plt.show()"
   ]
  }
 ],
 "metadata": {
  "colab": {
   "authorship_tag": "ABX9TyM8rK4QCIFwTmVSiwmanaBS",
   "collapsed_sections": [],
   "include_colab_link": true,
   "name": "testJupyterNotebook.ipynb",
   "provenance": []
  },
  "kernelspec": {
   "display_name": "Python 3 (ipykernel)",
   "language": "python",
   "name": "python3"
  },
  "language_info": {
   "codemirror_mode": {
    "name": "ipython",
    "version": 3
   },
   "file_extension": ".py",
   "mimetype": "text/x-python",
   "name": "python",
   "nbconvert_exporter": "python",
   "pygments_lexer": "ipython3",
   "version": "3.7.3"
  }
 },
 "nbformat": 4,
 "nbformat_minor": 1
}
